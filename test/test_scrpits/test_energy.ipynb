{
 "cells": [
  {
   "cell_type": "code",
   "execution_count": 1,
   "metadata": {},
   "outputs": [],
   "source": [
    "import torch\n",
    "import sys\n",
    "sys.path.append('/home/yl2428/MADFT-NN/src')"
   ]
  },
  {
   "cell_type": "code",
   "execution_count": 4,
   "metadata": {},
   "outputs": [],
   "source": [
    "data = torch.load('/home/yl2428/MADFT-NN/test/test_cases/OrbitalEnergyTestCases/batch_data.pth')"
   ]
  },
  {
   "cell_type": "code",
   "execution_count": 5,
   "metadata": {},
   "outputs": [
    {
     "data": {
      "text/plain": [
       "Data(edge_index=[2, 2781], pos=[127, 3], interaction_graph=[2, 456], labels=[127], num_nodes=127, num_labels=11, label_batch=[11], idx=[2], pyscf_energy=[2, 1], diag_hamiltonian=[127, 37, 37], atomic_numbers=[127], molecule_size=[2], energy=[2, 1], batch=[127], non_diag_hamiltonian=[3975, 37, 37], non_diag_mask=[3975, 37, 37], init_fock=[2], s1e=[2], diag_mask=[127, 37, 37], forces=[127, 3], ptr=[3], natoms=[2], node_attr=[127, 128], node_embedding=[127, 128], node_vec=[127, 2048], full_edge_index=[2, 3975], full_edge_attr=[3975, 64], full_edge_sh=[3975, 49], fii=[127, 1568], fij=[3975, 1568], pred_hamiltonian_diagonal_blocks=[127, 37, 37], pred_hamiltonian_non_diagonal_blocks=[3975, 37, 37])"
      ]
     },
     "execution_count": 5,
     "metadata": {},
     "output_type": "execute_result"
    }
   ],
   "source": [
    "data"
   ]
  },
  {
   "cell_type": "code",
   "execution_count": null,
   "metadata": {},
   "outputs": [],
   "source": []
  }
 ],
 "metadata": {
  "kernelspec": {
   "display_name": "madft_nn",
   "language": "python",
   "name": "python3"
  },
  "language_info": {
   "codemirror_mode": {
    "name": "ipython",
    "version": 3
   },
   "file_extension": ".py",
   "mimetype": "text/x-python",
   "name": "python",
   "nbconvert_exporter": "python",
   "pygments_lexer": "ipython3",
   "version": "3.11.8"
  }
 },
 "nbformat": 4,
 "nbformat_minor": 2
}
